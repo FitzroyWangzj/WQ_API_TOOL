{
 "cells": [
  {
   "cell_type": "code",
   "execution_count": null,
   "metadata": {},
   "outputs": [],
   "source": [
    "from wq_api import *\n",
    "\n",
    "session = sign_in(username,password)"
   ]
  },
  {
   "cell_type": "code",
   "execution_count": null,
   "metadata": {},
   "outputs": [],
   "source": [
    "# 所有参数\n",
    "\n",
    "# 从平台抓取的alpha数量(上限1000)\n",
    "n_alpha = 200\n",
    "\n",
    "#文件夹位置\n",
    "dir_path = './refine_data'\n",
    "\n",
    "# 数据文件位置(重点!!!,因为可能操作remain数据,请以1.csv结尾,结果结尾为3.csv,OS/IS结果结尾为4.csv)\n",
    "from_path = f'{dir_path}/0_data_1.csv'\n",
    "\n",
    "# 回测未完成数据存储位置\n",
    "remain_path = f'{dir_path}/0_remain_1.csv'"
   ]
  },
  {
   "cell_type": "code",
   "execution_count": null,
   "metadata": {},
   "outputs": [],
   "source": [
    "import os\n",
    "\n",
    "if not os.path.exists(dir_path):\n",
    "    os.makedirs(dir_path)\n",
    "\n",
    "# 将路径转换为列表，以便修改字符\n",
    "to_path_list = list(from_path)\n",
    "if to_path_list[-5] == '1':\n",
    "    # 修改倒数第5个字符为'3'\n",
    "    to_path_list[-5] = '3'\n",
    "    # 将列表转换回字符串\n",
    "    to_path = ''.join(to_path_list)\n",
    "else:\n",
    "    raise ValueError(f\"The character to be replaced is not '1'. Found '{to_path_list[-5]}' instead.\")\n",
    "\n",
    "print(f'Next available file path: {to_path}')"
   ]
  },
  {
   "cell_type": "code",
   "execution_count": null,
   "metadata": {},
   "outputs": [],
   "source": [
    "alphas =  get_n_is_alphas(session, n_alpha)"
   ]
  },
  {
   "cell_type": "code",
   "execution_count": null,
   "metadata": {},
   "outputs": [],
   "source": [
    "priority_alpha_df = pd.read_csv(from_path)\n",
    "priority_alpha_df = priority_alpha_df.iloc[:, 1:]\n",
    "priority_alpha_df['submmitable'] = np.nan\n",
    "priority_alpha_df['sharpe'] = np.nan\n",
    "priority_alpha_df['fitness'] = np.nan\n",
    "priority_alpha_df['id'] = np.nan"
   ]
  },
  {
   "cell_type": "code",
   "execution_count": null,
   "metadata": {},
   "outputs": [],
   "source": [
    "# 遍历 ids 并查找相应的 alphas 信息, 输出通过所有测试的alpha地址\n",
    "alpha_list = []\n",
    "for index, row in priority_alpha_df.iterrows():\n",
    "    for alpha in alphas:\n",
    "        if alpha['regular']['code'] == row['regular'] and \\\n",
    "            alpha['settings']['universe'] == row['universe'] and \\\n",
    "            alpha['settings']['decay'] == row['decay'] and \\\n",
    "            alpha['settings']['neutralization'] == row['neutralization']:\n",
    "            priority_alpha_df.loc[index, 'submmitable'] = submittable(alpha)\n",
    "            priority_alpha_df.loc[index, 'sharpe'] = alpha['is']['sharpe']\n",
    "            priority_alpha_df.loc[index, 'fitness'] = alpha['is']['fitness']\n",
    "            if(alpha['is']['sharpe'] > 1.2):\n",
    "                if(submittable(alpha)):\n",
    "                    print(alpha['id'])\n",
    "                    priority_alpha_df.loc[index, 'id'] = alpha['id']\n",
    "                    alpha_list.append(alpha['id'])\n",
    "            break\n",
    "\n",
    "# 保存修改后的 DataFrame\n",
    "priority_alpha_df.to_csv(to_path)\n"
   ]
  },
  {
   "cell_type": "code",
   "execution_count": null,
   "metadata": {},
   "outputs": [],
   "source": [
    "# store remained data\n",
    "remain_df = priority_alpha_df[priority_alpha_df['sharpe'].isnull()]\n",
    "remain_df.to_csv(remain_path)"
   ]
  },
  {
   "cell_type": "code",
   "execution_count": null,
   "metadata": {},
   "outputs": [],
   "source": [
    "# prod corr 记录区\n"
   ]
  },
  {
   "cell_type": "code",
   "execution_count": null,
   "metadata": {},
   "outputs": [],
   "source": [
    "# 测试单因子prod_corr\n",
    "# alpha_id = 'OpKN8nv'\n",
    "# print(get_prod_corr_with_retries(session, alpha_id))"
   ]
  },
  {
   "cell_type": "code",
   "execution_count": null,
   "metadata": {},
   "outputs": [],
   "source": [
    "# 测试全部可提交因子prod corr\n",
    "# for alpha_id in alpha_list[0:]:\n",
    "#     print(alpha_id)\n",
    "#     print(get_prod_corr_with_retries(session, alpha_id))"
   ]
  },
  {
   "cell_type": "code",
   "execution_count": null,
   "metadata": {},
   "outputs": [],
   "source": [
    "# 初始化 DataFrame\n",
    "performance_df = pd.DataFrame(columns=['id', 'IS_Sharpe', 'OS_Sharpe', 'OS/IS_Ratio'])"
   ]
  },
  {
   "cell_type": "code",
   "execution_count": null,
   "metadata": {},
   "outputs": [],
   "source": [
    "# 定义每批次处理的数量\n",
    "batch_size = 5\n",
    "\n",
    "# 遍历 alpha_list，按批次处理\n",
    "for i in range(0, len(alpha_list), batch_size):\n",
    "    batch = alpha_list[i:i + batch_size]\n",
    "    \n",
    "    for alpha_id in batch:\n",
    "        pnl = get_pnl(session, alpha_id)\n",
    "\n",
    "        df = pd.DataFrame(pnl.json()['records'], columns=['Date', 'PnL'])\n",
    "        df['Date'] = pd.to_datetime(df['Date'])\n",
    "        df.set_index('Date', inplace=True)\n",
    "\n",
    "        df['Return'] = df['PnL'].pct_change()\n",
    "\n",
    "        df['Rolling_Sharpe'] = rolling_sharpe(df['Return'])\n",
    "\n",
    "        end_date = df.index.max()\n",
    "        start_date_last_two_years = end_date - pd.DateOffset(years=2)\n",
    "        start_date_is = df.index.min()\n",
    "        end_date_is = start_date_last_two_years\n",
    "\n",
    "        df_os = df[start_date_last_two_years:end_date]\n",
    "        df_is = df[start_date_is:end_date_is]\n",
    "\n",
    "        is_sharpe = df_is['Rolling_Sharpe'].mean()\n",
    "        os_sharpe = df_os['Rolling_Sharpe'].mean()\n",
    "        \n",
    "        if os_sharpe != 0:  # 防止除零错误\n",
    "            ratio_os_is = os_sharpe / is_sharpe\n",
    "        else:\n",
    "            ratio_os_is = float('inf')  # 或者选择其他合适的处理方式\n",
    "\n",
    "        # 使用 pandas.concat 方法\n",
    "        new_row = pd.DataFrame({\n",
    "            'id': [alpha_id],\n",
    "            'IS_Sharpe': [is_sharpe],\n",
    "            'OS_Sharpe': [os_sharpe],\n",
    "            'OS/IS_Ratio': [ratio_os_is]\n",
    "        })\n",
    "\n",
    "        performance_df = pd.concat([performance_df, new_row], ignore_index=True)\n",
    "    \n",
    "    # 每批次处理完后暂停 5 秒\n",
    "    time.sleep(5)"
   ]
  },
  {
   "cell_type": "code",
   "execution_count": null,
   "metadata": {},
   "outputs": [],
   "source": [
    "performance_path_list = list(from_path)\n",
    "if performance_path_list[-5] == '1':\n",
    "    # 修改倒数第5个字符为'4'\n",
    "    performance_path_list[-5] = '4'\n",
    "    # 将列表转换回字符串\n",
    "    performance_path = ''.join(performance_path_list)\n",
    "else:\n",
    "    raise ValueError(f\"The character to be replaced is not '1'. Found '{performance_path_list[-5]}' instead.\")\n",
    "\n",
    "\n",
    "performance_df.to_csv(performance_path)"
   ]
  }
 ],
 "metadata": {
  "kernelspec": {
   "display_name": "2022a",
   "language": "python",
   "name": "python3"
  },
  "language_info": {
   "codemirror_mode": {
    "name": "ipython",
    "version": 3
   },
   "file_extension": ".py",
   "mimetype": "text/x-python",
   "name": "python",
   "nbconvert_exporter": "python",
   "pygments_lexer": "ipython3",
   "version": "3.10.13"
  }
 },
 "nbformat": 4,
 "nbformat_minor": 2
}
