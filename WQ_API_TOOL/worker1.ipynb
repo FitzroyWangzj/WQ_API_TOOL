{
 "cells": [
  {
   "cell_type": "code",
   "execution_count": null,
   "metadata": {},
   "outputs": [],
   "source": [
    "from wq_api import *\n",
    "\n",
    "session = sign_in(username,password)"
   ]
  },
  {
   "cell_type": "code",
   "execution_count": null,
   "metadata": {},
   "outputs": [],
   "source": [
    "# 所有参数\n",
    "dir_path = './727'\n",
    "\n",
    "# 数据文件,通常改这里\n",
    "index = 0\n",
    "\n",
    "# multi-simulation单次测试数\n",
    "sublist_size = 9\n",
    "\n",
    "# 最大同时multi-simulation数(由于暂停时间不足，仍可能出现线程占满)\n",
    "t_max = 10\n",
    "\n",
    "# multi-simulation数占满时的休眠时间，较长的休眠时间有利于防止线程占满，但可能会导致同时测试线程过少\n",
    "sleep_time = 300\n"
   ]
  },
  {
   "cell_type": "code",
   "execution_count": null,
   "metadata": {},
   "outputs": [],
   "source": [
    "import os\n",
    "\n",
    "if not os.path.exists(dir_path):\n",
    "    os.makedirs(dir_path)\n",
    "\n",
    "from_path = f'{dir_path}/{index}_data_1.csv'\n",
    "to_path = f'{dir_path}/{index}_data_2.csv'\n",
    "\n",
    "print(f'Next available file path: {to_path}')"
   ]
  },
  {
   "cell_type": "code",
   "execution_count": null,
   "metadata": {},
   "outputs": [],
   "source": [
    "priority_alpha_df = pd.read_csv(from_path)"
   ]
  },
  {
   "cell_type": "code",
   "execution_count": null,
   "metadata": {},
   "outputs": [],
   "source": [
    "# 遍历 DataFrame 的每一行\n",
    "alpha_list_with_settings = []\n",
    "\n",
    "for index, row in priority_alpha_df.iterrows():\n",
    "    simulation_data = {\n",
    "        'type': row['type'],\n",
    "        'settings': {\n",
    "            'instrumentType': row['instrumentType'],\n",
    "            'region': row['region'],\n",
    "            'universe': row['universe'],\n",
    "            'delay': row['delay'],\n",
    "            'decay': row['decay'],\n",
    "            'neutralization': row['neutralization'],\n",
    "            'truncation': row['truncation'],\n",
    "            'pasteurization': row['pasteurization'],\n",
    "            'unitHandling': row['unitHandling'],\n",
    "            'nanHandling': row['nanHandling'],\n",
    "            'language': row['language'],\n",
    "            'visualization': row['visualization'],\n",
    "        },\n",
    "        'regular': row['regular']\n",
    "    }\n",
    "    alpha_list_with_settings.append(simulation_data)"
   ]
  },
  {
   "cell_type": "code",
   "execution_count": null,
   "metadata": {},
   "outputs": [],
   "source": [
    "simulate(session, alpha_list_with_settings, sublist_size, t_max, sleep_time)"
   ]
  }
 ],
 "metadata": {
  "kernelspec": {
   "display_name": "2022a",
   "language": "python",
   "name": "python3"
  },
  "language_info": {
   "codemirror_mode": {
    "name": "ipython",
    "version": 3
   },
   "file_extension": ".py",
   "mimetype": "text/x-python",
   "name": "python",
   "nbconvert_exporter": "python",
   "pygments_lexer": "ipython3",
   "version": "3.10.13"
  }
 },
 "nbformat": 4,
 "nbformat_minor": 2
}
