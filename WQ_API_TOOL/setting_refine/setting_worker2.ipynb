{
 "cells": [
  {
   "cell_type": "code",
   "execution_count": 1,
   "metadata": {},
   "outputs": [
    {
     "name": "stdout",
     "output_type": "stream",
     "text": [
      "<Response [201]>\n"
     ]
    }
   ],
   "source": [
    "from wq_api import *\n",
    "\n",
    "session = sign_in(username,password)"
   ]
  },
  {
   "cell_type": "code",
   "execution_count": 3,
   "metadata": {},
   "outputs": [],
   "source": [
    "# 所有参数\n",
    "\n",
    "# 从平台抓取的alpha数量(上限1000)\n",
    "n_alpha = 200\n",
    "\n",
    "#文件夹位置\n",
    "dir_path = './refine_data'\n",
    "\n",
    "# 数据文件位置(重点!!!,因为可能操作remain数据,请以1.csv结尾,结果结尾为3.csv,OS/IS结果结尾为4.csv)\n",
    "from_path = f'{dir_path}/0_refine_1.csv'\n",
    "\n",
    "# 回测未完成数据存储位置\n",
    "remain_path = f'{dir_path}/0_remain_1.csv'"
   ]
  },
  {
   "cell_type": "code",
   "execution_count": 4,
   "metadata": {},
   "outputs": [
    {
     "name": "stdout",
     "output_type": "stream",
     "text": [
      "Next available file path: ./refine_data/0_refine_3.csv\n"
     ]
    }
   ],
   "source": [
    "import os\n",
    "\n",
    "if not os.path.exists(dir_path):\n",
    "    os.makedirs(dir_path)\n",
    "\n",
    "# 将路径转换为列表，以便修改字符\n",
    "to_path_list = list(from_path)\n",
    "if to_path_list[-5] == '1':\n",
    "    # 修改倒数第5个字符为'3'\n",
    "    to_path_list[-5] = '3'\n",
    "    # 将列表转换回字符串\n",
    "    to_path = ''.join(to_path_list)\n",
    "else:\n",
    "    raise ValueError(f\"The character to be replaced is not '1'. Found '{to_path_list[-5]}' instead.\")\n",
    "\n",
    "print(f'Next available file path: {to_path}')"
   ]
  },
  {
   "cell_type": "code",
   "execution_count": 5,
   "metadata": {},
   "outputs": [],
   "source": [
    "alphas =  get_n_is_alphas(session, n_alpha)"
   ]
  },
  {
   "cell_type": "code",
   "execution_count": 6,
   "metadata": {},
   "outputs": [],
   "source": [
    "priority_alpha_df = pd.read_csv(from_path)\n",
    "priority_alpha_df = priority_alpha_df.iloc[:, 1:]\n",
    "priority_alpha_df['submmitable'] = np.nan\n",
    "priority_alpha_df['sharpe'] = np.nan\n",
    "priority_alpha_df['fitness'] = np.nan\n",
    "priority_alpha_df['id'] = np.nan"
   ]
  },
  {
   "cell_type": "code",
   "execution_count": 7,
   "metadata": {},
   "outputs": [],
   "source": [
    "# 遍历 ids 并查找相应的 alphas 信息, 输出通过所有测试的alpha地址\n",
    "alpha_list = []\n",
    "for index, row in priority_alpha_df.iterrows():\n",
    "    for alpha in alphas:\n",
    "        if alpha['regular']['code'] == row['regular'] and \\\n",
    "            alpha['settings']['universe'] == row['universe'] and \\\n",
    "            alpha['settings']['decay'] == row['decay'] and \\\n",
    "            alpha['settings']['neutralization'] == row['neutralization']:\n",
    "            priority_alpha_df.loc[index, 'submmitable'] = submittable(alpha)\n",
    "            priority_alpha_df.loc[index, 'sharpe'] = alpha['is']['sharpe']\n",
    "            priority_alpha_df.loc[index, 'fitness'] = alpha['is']['fitness']\n",
    "            if(alpha['is']['sharpe'] > 1.2):\n",
    "                if(submittable(alpha)):\n",
    "                    print(alpha['id'])\n",
    "                    priority_alpha_df.loc[index, 'id'] = alpha['id']\n",
    "                    alpha_list.append(alpha['id'])\n",
    "            break\n",
    "\n",
    "# 保存修改后的 DataFrame\n",
    "priority_alpha_df.to_csv(to_path)\n"
   ]
  },
  {
   "cell_type": "code",
   "execution_count": 8,
   "metadata": {},
   "outputs": [],
   "source": [
    "# store remained data\n",
    "remain_df = priority_alpha_df[priority_alpha_df['sharpe'].isnull()]\n",
    "remain_df.to_csv(remain_path)"
   ]
  },
  {
   "cell_type": "code",
   "execution_count": null,
   "metadata": {},
   "outputs": [],
   "source": [
    "# prod corr 记录区\n"
   ]
  },
  {
   "cell_type": "code",
   "execution_count": null,
   "metadata": {},
   "outputs": [
    {
     "ename": "NameError",
     "evalue": "name 'OpKN8nv' is not defined",
     "output_type": "error",
     "traceback": [
      "\u001b[1;31m---------------------------------------------------------------------------\u001b[0m",
      "\u001b[1;31mNameError\u001b[0m                                 Traceback (most recent call last)",
      "Cell \u001b[1;32mIn[13], line 1\u001b[0m\n\u001b[1;32m----> 1\u001b[0m alpha_id \u001b[38;5;241m=\u001b[39m \u001b[43mOpKN8nv\u001b[49m\n\u001b[0;32m      2\u001b[0m \u001b[38;5;28mprint\u001b[39m(get_prod_corr_with_retries(session, alpha_id))\n",
      "\u001b[1;31mNameError\u001b[0m: name 'OpKN8nv' is not defined"
     ]
    }
   ],
   "source": [
    "# 测试单因子prod_corr\n",
    "# alpha_id = 'OpKN8nv'\n",
    "# print(get_prod_corr_with_retries(session, alpha_id))"
   ]
  },
  {
   "cell_type": "code",
   "execution_count": null,
   "metadata": {},
   "outputs": [
    {
     "name": "stdout",
     "output_type": "stream",
     "text": [
      "vLaZbvb\n"
     ]
    },
    {
     "ename": "JSONDecodeError",
     "evalue": "Expecting value: line 1 column 1 (char 0)",
     "output_type": "error",
     "traceback": [
      "\u001b[1;31m---------------------------------------------------------------------------\u001b[0m",
      "\u001b[1;31mJSONDecodeError\u001b[0m                           Traceback (most recent call last)",
      "File \u001b[1;32md:\\anaconda\\envs\\2022a\\lib\\site-packages\\requests\\models.py:971\u001b[0m, in \u001b[0;36mResponse.json\u001b[1;34m(self, **kwargs)\u001b[0m\n\u001b[0;32m    970\u001b[0m \u001b[38;5;28;01mtry\u001b[39;00m:\n\u001b[1;32m--> 971\u001b[0m     \u001b[38;5;28;01mreturn\u001b[39;00m complexjson\u001b[38;5;241m.\u001b[39mloads(\u001b[38;5;28mself\u001b[39m\u001b[38;5;241m.\u001b[39mtext, \u001b[38;5;241m*\u001b[39m\u001b[38;5;241m*\u001b[39mkwargs)\n\u001b[0;32m    972\u001b[0m \u001b[38;5;28;01mexcept\u001b[39;00m JSONDecodeError \u001b[38;5;28;01mas\u001b[39;00m e:\n\u001b[0;32m    973\u001b[0m     \u001b[38;5;66;03m# Catch JSON-related errors and raise as requests.JSONDecodeError\u001b[39;00m\n\u001b[0;32m    974\u001b[0m     \u001b[38;5;66;03m# This aliases json.JSONDecodeError and simplejson.JSONDecodeError\u001b[39;00m\n",
      "File \u001b[1;32md:\\anaconda\\envs\\2022a\\lib\\site-packages\\simplejson\\__init__.py:514\u001b[0m, in \u001b[0;36mloads\u001b[1;34m(s, encoding, cls, object_hook, parse_float, parse_int, parse_constant, object_pairs_hook, use_decimal, allow_nan, **kw)\u001b[0m\n\u001b[0;32m    510\u001b[0m \u001b[38;5;28;01mif\u001b[39;00m (\u001b[38;5;28mcls\u001b[39m \u001b[38;5;129;01mis\u001b[39;00m \u001b[38;5;28;01mNone\u001b[39;00m \u001b[38;5;129;01mand\u001b[39;00m encoding \u001b[38;5;129;01mis\u001b[39;00m \u001b[38;5;28;01mNone\u001b[39;00m \u001b[38;5;129;01mand\u001b[39;00m object_hook \u001b[38;5;129;01mis\u001b[39;00m \u001b[38;5;28;01mNone\u001b[39;00m \u001b[38;5;129;01mand\u001b[39;00m\n\u001b[0;32m    511\u001b[0m         parse_int \u001b[38;5;129;01mis\u001b[39;00m \u001b[38;5;28;01mNone\u001b[39;00m \u001b[38;5;129;01mand\u001b[39;00m parse_float \u001b[38;5;129;01mis\u001b[39;00m \u001b[38;5;28;01mNone\u001b[39;00m \u001b[38;5;129;01mand\u001b[39;00m\n\u001b[0;32m    512\u001b[0m         parse_constant \u001b[38;5;129;01mis\u001b[39;00m \u001b[38;5;28;01mNone\u001b[39;00m \u001b[38;5;129;01mand\u001b[39;00m object_pairs_hook \u001b[38;5;129;01mis\u001b[39;00m \u001b[38;5;28;01mNone\u001b[39;00m\n\u001b[0;32m    513\u001b[0m         \u001b[38;5;129;01mand\u001b[39;00m \u001b[38;5;129;01mnot\u001b[39;00m use_decimal \u001b[38;5;129;01mand\u001b[39;00m \u001b[38;5;129;01mnot\u001b[39;00m allow_nan \u001b[38;5;129;01mand\u001b[39;00m \u001b[38;5;129;01mnot\u001b[39;00m kw):\n\u001b[1;32m--> 514\u001b[0m     \u001b[38;5;28;01mreturn\u001b[39;00m \u001b[43m_default_decoder\u001b[49m\u001b[38;5;241;43m.\u001b[39;49m\u001b[43mdecode\u001b[49m\u001b[43m(\u001b[49m\u001b[43ms\u001b[49m\u001b[43m)\u001b[49m\n\u001b[0;32m    515\u001b[0m \u001b[38;5;28;01mif\u001b[39;00m \u001b[38;5;28mcls\u001b[39m \u001b[38;5;129;01mis\u001b[39;00m \u001b[38;5;28;01mNone\u001b[39;00m:\n",
      "File \u001b[1;32md:\\anaconda\\envs\\2022a\\lib\\site-packages\\simplejson\\decoder.py:386\u001b[0m, in \u001b[0;36mJSONDecoder.decode\u001b[1;34m(self, s, _w, _PY3)\u001b[0m\n\u001b[0;32m    385\u001b[0m     s \u001b[38;5;241m=\u001b[39m \u001b[38;5;28mstr\u001b[39m(s, \u001b[38;5;28mself\u001b[39m\u001b[38;5;241m.\u001b[39mencoding)\n\u001b[1;32m--> 386\u001b[0m obj, end \u001b[38;5;241m=\u001b[39m \u001b[38;5;28;43mself\u001b[39;49m\u001b[38;5;241;43m.\u001b[39;49m\u001b[43mraw_decode\u001b[49m\u001b[43m(\u001b[49m\u001b[43ms\u001b[49m\u001b[43m)\u001b[49m\n\u001b[0;32m    387\u001b[0m end \u001b[38;5;241m=\u001b[39m _w(s, end)\u001b[38;5;241m.\u001b[39mend()\n",
      "File \u001b[1;32md:\\anaconda\\envs\\2022a\\lib\\site-packages\\simplejson\\decoder.py:416\u001b[0m, in \u001b[0;36mJSONDecoder.raw_decode\u001b[1;34m(self, s, idx, _w, _PY3)\u001b[0m\n\u001b[0;32m    415\u001b[0m         idx \u001b[38;5;241m+\u001b[39m\u001b[38;5;241m=\u001b[39m \u001b[38;5;241m3\u001b[39m\n\u001b[1;32m--> 416\u001b[0m \u001b[38;5;28;01mreturn\u001b[39;00m \u001b[38;5;28;43mself\u001b[39;49m\u001b[38;5;241;43m.\u001b[39;49m\u001b[43mscan_once\u001b[49m\u001b[43m(\u001b[49m\u001b[43ms\u001b[49m\u001b[43m,\u001b[49m\u001b[43m \u001b[49m\u001b[43midx\u001b[49m\u001b[38;5;241;43m=\u001b[39;49m\u001b[43m_w\u001b[49m\u001b[43m(\u001b[49m\u001b[43ms\u001b[49m\u001b[43m,\u001b[49m\u001b[43m \u001b[49m\u001b[43midx\u001b[49m\u001b[43m)\u001b[49m\u001b[38;5;241;43m.\u001b[39;49m\u001b[43mend\u001b[49m\u001b[43m(\u001b[49m\u001b[43m)\u001b[49m\u001b[43m)\u001b[49m\n",
      "\u001b[1;31mJSONDecodeError\u001b[0m: Expecting value: line 1 column 1 (char 0)",
      "\nDuring handling of the above exception, another exception occurred:\n",
      "\u001b[1;31mJSONDecodeError\u001b[0m                           Traceback (most recent call last)",
      "Cell \u001b[1;32mIn[7], line 3\u001b[0m\n\u001b[0;32m      1\u001b[0m \u001b[38;5;28;01mfor\u001b[39;00m alpha_id \u001b[38;5;129;01min\u001b[39;00m alpha_list[\u001b[38;5;241m0\u001b[39m:]:\n\u001b[0;32m      2\u001b[0m     \u001b[38;5;28mprint\u001b[39m(alpha_id)\n\u001b[1;32m----> 3\u001b[0m     \u001b[38;5;28mprint\u001b[39m(\u001b[43mget_prod_corr_with_retries\u001b[49m\u001b[43m(\u001b[49m\u001b[43msession\u001b[49m\u001b[43m,\u001b[49m\u001b[43m \u001b[49m\u001b[43malpha_id\u001b[49m\u001b[43m)\u001b[49m)\n",
      "File \u001b[1;32md:\\desktop\\WQ\\WQ4\\wq_api.py:512\u001b[0m, in \u001b[0;36mget_prod_corr_with_retries\u001b[1;34m(session, alpha_id, max_retries)\u001b[0m\n\u001b[0;32m    510\u001b[0m \u001b[38;5;28;01mwhile\u001b[39;00m retry_count \u001b[38;5;241m<\u001b[39m max_retries:\n\u001b[0;32m    511\u001b[0m     \u001b[38;5;28;01mtry\u001b[39;00m:\n\u001b[1;32m--> 512\u001b[0m         prod_corr_df \u001b[38;5;241m=\u001b[39m \u001b[43mget_prod_corr\u001b[49m\u001b[43m(\u001b[49m\u001b[43msession\u001b[49m\u001b[43m,\u001b[49m\u001b[43m \u001b[49m\u001b[43malpha_id\u001b[49m\u001b[43m)\u001b[49m\n\u001b[0;32m    513\u001b[0m         \u001b[38;5;28;01mif\u001b[39;00m \u001b[38;5;129;01mnot\u001b[39;00m prod_corr_df\u001b[38;5;241m.\u001b[39mempty:\n\u001b[0;32m    514\u001b[0m             \u001b[38;5;28;01mreturn\u001b[39;00m prod_corr_df\n",
      "File \u001b[1;32md:\\desktop\\WQ\\WQ4\\wq_api.py:495\u001b[0m, in \u001b[0;36mget_prod_corr\u001b[1;34m(session, alpha_id)\u001b[0m\n\u001b[0;32m    493\u001b[0m response\u001b[38;5;241m.\u001b[39mraise_for_status()\n\u001b[0;32m    494\u001b[0m \u001b[38;5;28;01mtry\u001b[39;00m:\n\u001b[1;32m--> 495\u001b[0m     response_data \u001b[38;5;241m=\u001b[39m \u001b[43mresponse\u001b[49m\u001b[38;5;241;43m.\u001b[39;49m\u001b[43mjson\u001b[49m\u001b[43m(\u001b[49m\u001b[43m)\u001b[49m\n\u001b[0;32m    496\u001b[0m \u001b[38;5;28;01mexcept\u001b[39;00m json\u001b[38;5;241m.\u001b[39mJSONDecodeError:\n\u001b[0;32m    497\u001b[0m     \u001b[38;5;28mprint\u001b[39m(\u001b[38;5;124mf\u001b[39m\u001b[38;5;124m\"\u001b[39m\u001b[38;5;124mError while decoding prod_corr JSON for alpha \u001b[39m\u001b[38;5;132;01m{\u001b[39;00malpha_id\u001b[38;5;132;01m}\u001b[39;00m\u001b[38;5;124m: Invalid or empty JSON\u001b[39m\u001b[38;5;124m\"\u001b[39m)\n",
      "File \u001b[1;32md:\\anaconda\\envs\\2022a\\lib\\site-packages\\requests\\models.py:975\u001b[0m, in \u001b[0;36mResponse.json\u001b[1;34m(self, **kwargs)\u001b[0m\n\u001b[0;32m    971\u001b[0m     \u001b[38;5;28;01mreturn\u001b[39;00m complexjson\u001b[38;5;241m.\u001b[39mloads(\u001b[38;5;28mself\u001b[39m\u001b[38;5;241m.\u001b[39mtext, \u001b[38;5;241m*\u001b[39m\u001b[38;5;241m*\u001b[39mkwargs)\n\u001b[0;32m    972\u001b[0m \u001b[38;5;28;01mexcept\u001b[39;00m JSONDecodeError \u001b[38;5;28;01mas\u001b[39;00m e:\n\u001b[0;32m    973\u001b[0m     \u001b[38;5;66;03m# Catch JSON-related errors and raise as requests.JSONDecodeError\u001b[39;00m\n\u001b[0;32m    974\u001b[0m     \u001b[38;5;66;03m# This aliases json.JSONDecodeError and simplejson.JSONDecodeError\u001b[39;00m\n\u001b[1;32m--> 975\u001b[0m     \u001b[38;5;28;01mraise\u001b[39;00m RequestsJSONDecodeError(e\u001b[38;5;241m.\u001b[39mmsg, e\u001b[38;5;241m.\u001b[39mdoc, e\u001b[38;5;241m.\u001b[39mpos)\n",
      "\u001b[1;31mJSONDecodeError\u001b[0m: Expecting value: line 1 column 1 (char 0)"
     ]
    }
   ],
   "source": [
    "# 测试全部可提交因子prod corr\n",
    "# for alpha_id in alpha_list[0:]:\n",
    "#     print(alpha_id)\n",
    "#     print(get_prod_corr_with_retries(session, alpha_id))"
   ]
  },
  {
   "cell_type": "code",
   "execution_count": null,
   "metadata": {},
   "outputs": [],
   "source": [
    "# 初始化 DataFrame\n",
    "performance_df = pd.DataFrame(columns=['id', 'IS_Sharpe', 'OS_Sharpe', 'OS/IS_Ratio'])"
   ]
  },
  {
   "cell_type": "code",
   "execution_count": null,
   "metadata": {},
   "outputs": [
    {
     "name": "stdout",
     "output_type": "stream",
     "text": [
      "Sleeping for 1.0 seconds\n",
      "PnL retrieved\n",
      "Sleeping for 1.0 seconds\n",
      "PnL retrieved\n",
      "Sleeping for 1.0 seconds\n",
      "PnL retrieved\n",
      "Sleeping for 1.0 seconds\n",
      "PnL retrieved\n"
     ]
    }
   ],
   "source": [
    "# 定义每批次处理的数量\n",
    "batch_size = 5\n",
    "\n",
    "# 遍历 alpha_list，按批次处理\n",
    "for i in range(0, len(alpha_list), batch_size):\n",
    "    batch = alpha_list[i:i + batch_size]\n",
    "    \n",
    "    for alpha_id in batch:\n",
    "        pnl = get_pnl(session, alpha_id)\n",
    "\n",
    "        df = pd.DataFrame(pnl.json()['records'], columns=['Date', 'PnL'])\n",
    "        df['Date'] = pd.to_datetime(df['Date'])\n",
    "        df.set_index('Date', inplace=True)\n",
    "\n",
    "        df['Return'] = df['PnL'].pct_change()\n",
    "\n",
    "        df['Rolling_Sharpe'] = rolling_sharpe(df['Return'])\n",
    "\n",
    "        end_date = df.index.max()\n",
    "        start_date_last_two_years = end_date - pd.DateOffset(years=2)\n",
    "        start_date_is = df.index.min()\n",
    "        end_date_is = start_date_last_two_years\n",
    "\n",
    "        df_os = df[start_date_last_two_years:end_date]\n",
    "        df_is = df[start_date_is:end_date_is]\n",
    "\n",
    "        is_sharpe = df_is['Rolling_Sharpe'].mean()\n",
    "        os_sharpe = df_os['Rolling_Sharpe'].mean()\n",
    "        \n",
    "        if os_sharpe != 0:  # 防止除零错误\n",
    "            ratio_os_is = os_sharpe / is_sharpe\n",
    "        else:\n",
    "            ratio_os_is = float('inf')  # 或者选择其他合适的处理方式\n",
    "\n",
    "        # 使用 pandas.concat 方法\n",
    "        new_row = pd.DataFrame({\n",
    "            'id': [alpha_id],\n",
    "            'IS_Sharpe': [is_sharpe],\n",
    "            'OS_Sharpe': [os_sharpe],\n",
    "            'OS/IS_Ratio': [ratio_os_is]\n",
    "        })\n",
    "\n",
    "        performance_df = pd.concat([performance_df, new_row], ignore_index=True)\n",
    "    \n",
    "    # 每批次处理完后暂停 5 秒\n",
    "    time.sleep(5)"
   ]
  },
  {
   "cell_type": "code",
   "execution_count": null,
   "metadata": {},
   "outputs": [],
   "source": [
    "performance_path_list = list(from_path)\n",
    "if performance_path_list[-5] == '1':\n",
    "    # 修改倒数第5个字符为'4'\n",
    "    performance_path_list[-5] = '4'\n",
    "    # 将列表转换回字符串\n",
    "    performance_path = ''.join(performance_path_list)\n",
    "else:\n",
    "    raise ValueError(f\"The character to be replaced is not '1'. Found '{performance_path_list[-5]}' instead.\")\n",
    "\n",
    "\n",
    "performance_df.to_csv(performance_path)"
   ]
  }
 ],
 "metadata": {
  "kernelspec": {
   "display_name": "2022a",
   "language": "python",
   "name": "python3"
  },
  "language_info": {
   "codemirror_mode": {
    "name": "ipython",
    "version": 3
   },
   "file_extension": ".py",
   "mimetype": "text/x-python",
   "name": "python",
   "nbconvert_exporter": "python",
   "pygments_lexer": "ipython3",
   "version": "3.10.13"
  }
 },
 "nbformat": 4,
 "nbformat_minor": 2
}
